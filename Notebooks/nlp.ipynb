{
 "cells": [
  {
   "cell_type": "code",
   "execution_count": 1,
   "metadata": {},
   "outputs": [],
   "source": [
    "import pandas as pd\n"
   ]
  },
  {
   "cell_type": "code",
   "execution_count": 7,
   "metadata": {},
   "outputs": [
    {
     "data": {
      "text/html": [
       "<div>\n",
       "<style scoped>\n",
       "    .dataframe tbody tr th:only-of-type {\n",
       "        vertical-align: middle;\n",
       "    }\n",
       "\n",
       "    .dataframe tbody tr th {\n",
       "        vertical-align: top;\n",
       "    }\n",
       "\n",
       "    .dataframe thead th {\n",
       "        text-align: right;\n",
       "    }\n",
       "</style>\n",
       "<table border=\"1\" class=\"dataframe\">\n",
       "  <thead>\n",
       "    <tr style=\"text-align: right;\">\n",
       "      <th></th>\n",
       "      <th>Title</th>\n",
       "      <th>Artist</th>\n",
       "      <th>Lyrics</th>\n",
       "    </tr>\n",
       "  </thead>\n",
       "  <tbody>\n",
       "    <tr>\n",
       "      <th>0</th>\n",
       "      <td>Dick</td>\n",
       "      <td>StarBoi3</td>\n",
       "      <td>[Intro: StarBoi3]\\nDick, dick\\nDick, dick\\nDic...</td>\n",
       "    </tr>\n",
       "    <tr>\n",
       "      <th>1</th>\n",
       "      <td>MONTERO (Call Me By Your Name)</td>\n",
       "      <td>Lil Nas X</td>\n",
       "      <td>[Verse 1]\\nI caught it bad yesterday\\nYou hit ...</td>\n",
       "    </tr>\n",
       "    <tr>\n",
       "      <th>2</th>\n",
       "      <td>Solid</td>\n",
       "      <td>Young Stoner Life, Young Thug &amp; Gunna</td>\n",
       "      <td>[Intro: Drake]\\nAyy, slip, slide, tryna provid...</td>\n",
       "    </tr>\n",
       "    <tr>\n",
       "      <th>3</th>\n",
       "      <td>RAPSTAR</td>\n",
       "      <td>Polo G</td>\n",
       "      <td>[Intro]\\n(Shout out my nigga Synco)\\n\\n[Chorus...</td>\n",
       "    </tr>\n",
       "    <tr>\n",
       "      <th>4</th>\n",
       "      <td>Ski</td>\n",
       "      <td>Young Stoner Life, Young Thug &amp; Gunna</td>\n",
       "      <td>[Intro: Young Thug]\\nWoo\\n(Tsunami)\\nSpider, S...</td>\n",
       "    </tr>\n",
       "  </tbody>\n",
       "</table>\n",
       "</div>"
      ],
      "text/plain": [
       "                            Title                                 Artist  \\\n",
       "0                            Dick                               StarBoi3   \n",
       "1  MONTERO (Call Me By Your Name)                              Lil Nas X   \n",
       "2                           Solid  Young Stoner Life, Young Thug & Gunna   \n",
       "3                         RAPSTAR                                 Polo G   \n",
       "4                             Ski  Young Stoner Life, Young Thug & Gunna   \n",
       "\n",
       "                                              Lyrics  \n",
       "0  [Intro: StarBoi3]\\nDick, dick\\nDick, dick\\nDic...  \n",
       "1  [Verse 1]\\nI caught it bad yesterday\\nYou hit ...  \n",
       "2  [Intro: Drake]\\nAyy, slip, slide, tryna provid...  \n",
       "3  [Intro]\\n(Shout out my nigga Synco)\\n\\n[Chorus...  \n",
       "4  [Intro: Young Thug]\\nWoo\\n(Tsunami)\\nSpider, S...  "
      ]
     },
     "execution_count": 7,
     "metadata": {},
     "output_type": "execute_result"
    }
   ],
   "source": [
    "df = pd.read_csv('test.csv',index_col=0)[['Title','Artist','Lyrics']]\n",
    "df.head()"
   ]
  },
  {
   "cell_type": "code",
   "execution_count": null,
   "metadata": {},
   "outputs": [],
   "source": []
  },
  {
   "cell_type": "code",
   "execution_count": null,
   "metadata": {},
   "outputs": [],
   "source": []
  }
 ],
 "metadata": {
  "interpreter": {
   "hash": "cd78fef2128015050713e82ca51c6520b11aee7c9ee8df750520bbbc7384cbaa"
  },
  "kernelspec": {
   "display_name": "Python 3.7.1 64-bit ('base': conda)",
   "name": "python3"
  },
  "language_info": {
   "codemirror_mode": {
    "name": "ipython",
    "version": 3
   },
   "file_extension": ".py",
   "mimetype": "text/x-python",
   "name": "python",
   "nbconvert_exporter": "python",
   "pygments_lexer": "ipython3",
   "version": "3.7.1"
  },
  "orig_nbformat": 4
 },
 "nbformat": 4,
 "nbformat_minor": 2
}
