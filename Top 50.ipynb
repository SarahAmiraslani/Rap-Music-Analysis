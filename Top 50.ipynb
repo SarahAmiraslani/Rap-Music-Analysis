{
 "cells": [
  {
   "cell_type": "markdown",
   "metadata": {},
   "source": [
    "# Top 50"
   ]
  },
  {
   "cell_type": "markdown",
   "metadata": {},
   "source": [
    "Our current Genius token: \n",
    "```python\n",
    "token = F4xSKCMmA7mpolFgbIrdAPPBw67u6ae_p19dSs0rqDcZNrhBSzVt9hMn5Xan0_aq\n",
    "```"
   ]
  },
  {
   "cell_type": "markdown",
   "metadata": {},
   "source": [
    "# Imports"
   ]
  },
  {
   "cell_type": "code",
   "execution_count": 1,
   "metadata": {},
   "outputs": [],
   "source": [
    "import numpy as np\n",
    "import pandas as pd\n",
    "\n",
    "# User defined functions\n",
    "from functions import *"
   ]
  },
  {
   "cell_type": "markdown",
   "metadata": {},
   "source": [
    "# Data Collection"
   ]
  },
  {
   "cell_type": "code",
   "execution_count": 2,
   "metadata": {},
   "outputs": [
    {
     "name": "stderr",
     "output_type": "stream",
     "text": [
      "[WDM] - Current google-chrome version is 90.0.4430\n",
      "[WDM] - Get LATEST driver version for 90.0.4430\n",
      "[WDM] - There is no [mac64] chromedriver for browser 90.0.4430 in cache\n",
      "[WDM] - Get LATEST driver version for 90.0.4430\n"
     ]
    },
    {
     "name": "stdout",
     "output_type": "stream",
     "text": [
      " \n"
     ]
    },
    {
     "name": "stderr",
     "output_type": "stream",
     "text": [
      "[WDM] - Trying to download new driver from http://chromedriver.storage.googleapis.com/90.0.4430.24/chromedriver_mac64.zip\n",
      "[WDM] - Driver has been saved in cache [/Users/sarahamiraslani/.wdm/drivers/chromedriver/mac64/90.0.4430.24]\n"
     ]
    }
   ],
   "source": [
    "html = get_page_source()"
   ]
  },
  {
   "cell_type": "code",
   "execution_count": 3,
   "metadata": {},
   "outputs": [],
   "source": [
    "# Create an empty DataFrames which we will append the top 50 hits to\n",
    "df_hits = pd.DataFrame(columns = ['Title','Artist','Lyrics','Comments','Rank','Date','Page Views'])"
   ]
  },
  {
   "cell_type": "code",
   "execution_count": null,
   "metadata": {},
   "outputs": [],
   "source": []
  },
  {
   "cell_type": "code",
   "execution_count": 4,
   "metadata": {},
   "outputs": [
    {
     "name": "stdout",
     "output_type": "stream",
     "text": [
      "Searching for \"MONTERO (Call Me By Your Name)\" by Lil Nas X...\n",
      "Done.\n",
      "Searching for \"Solid\" by Young Stoner Life, Young Thug & Gunna...\n",
      "Done.\n",
      "Searching for \"Proud of You\" by Young Stoner Life & Young Thug...\n",
      "Done.\n",
      "Searching for \"Ski\" by Young Stoner Life, Young Thug & Gunna...\n",
      "Done.\n",
      "Searching for \"Diamonds Dancing\" by Young Stoner Life, Young Thug & Gunna...\n",
      "Done.\n",
      "Searching for \"RAPSTAR\" by Polo G...\n",
      "Done.\n",
      "Searching for \"Dick\" by StarBoi3...\n",
      "Done.\n",
      "Searching for \"Up\" by Cardi B...\n",
      "Done.\n",
      "Searching for \"Голодный пёс (Hungry dog)\" by SEEMEE...\n",
      "Done.\n",
      "Searching for \"Бигасс (Bigass)\" by SODA LUV & WHY, BERRY...\n",
      "Done.\n",
      "Searching for \"Krvn\" by UZI...\n",
      "Done.\n",
      "Searching for \"Миллионы (Millions)\" by THRILL PILL...\n",
      "Done.\n",
      "Searching for \"NEW PROFILE PIC\" by $UICIDEBOY$...\n",
      "Done.\n",
      "Searching for \"Levitating\" by Dua Lipa...\n",
      "Done.\n",
      "Searching for \"Perros Blancos Freestyle\" by Cakal & Reckol...\n",
      "Done.\n",
      "Searching for \"Неправильно (Wrong)\" by LOVV66...\n",
      "Done.\n",
      "Searching for \"Slatty\" by Young Stoner Life, Young Thug & Gunna...\n",
      "Done.\n",
      "Searching for \"Baby\" by Justin Bieber...\n",
      "Done.\n",
      "Searching for \"Wit My Hoe!\" by Katozai...\n",
      "Done.\n",
      "Searching for \"Paid the Fine\" by Young Stoner Life, Young Thug & Gunna...\n",
      "Done.\n",
      "Searching for \"Wants and Needs\" by Drake...\n",
      "Done.\n",
      "Searching for \"Who I Smoke\" by Spinabenz, Yungeen Ace & FastMoney Goon...\n",
      "Done.\n",
      "Searching for \"Патрон (Patron)\" by MiyaGi & Эндшпиль...\n",
      "Done.\n",
      "Searching for \"Umrumda Değil\" by UZI...\n",
      "Done.\n",
      "Searching for \"Came and Saw\" by Young Stoner Life & Young Thug...\n",
      "Done.\n",
      "Searching for \"Dua\" by Güneş...\n",
      "Done.\n",
      "Searching for \"[TPL (OTP)] Plugged In Freestyle\" by TPL (OTP)...\n",
      "Done.\n",
      "Searching for \"Skamming shit\" by ​uglystephan...\n",
      "Done.\n",
      "Searching for \"Добро Пожаловать (Welcome)\" by OG Buda & MAYOT...\n",
      "Done.\n",
      "Searching for \"Коми (Komi)\" by SODA LUV & BUSHIDO ZHO...\n",
      "Done.\n",
      "Searching for \"Twerkulator\" by City Girls...\n",
      "Done.\n",
      "Searching for \"WokStar\" by Young Stoner Life...\n",
      "Done.\n",
      "Searching for \"G-SHOKK\" by SODA LUV...\n",
      "Done.\n",
      "Searching for \"On Me\" by Lil Baby...\n",
      "Done.\n",
      "Searching for \"SugarCrash!\" by ElyOtto...\n",
      "Done.\n",
      "Searching for \"Levitating (Remix)\" by Dua Lipa...\n",
      "Done.\n",
      "Searching for \"WAP\" by Cardi B...\n",
      "Done.\n",
      "Searching for \"Astronaut in the Ocean\" by Masked Wolf...\n",
      "Done.\n",
      "Searching for \"FFM Freestyle: SODA LUV\" by Fast Food Music...\n",
      "Done.\n",
      "Searching for \"Back in Blood\" by Pooh Shiesty...\n",
      "Done.\n",
      "Searching for \"​shots in the dark\" by ​iann dior & Trippie Redd...\n",
      "Done.\n",
      "Searching for \"Throat Baby (Go Baby) [Remix]\" by BRS Kash, DaBaby & City Girls...\n",
      "Done.\n",
      "Searching for \"Penguins\" by Young Dolph & Key Glock...\n",
      "Done.\n",
      "Searching for \"Titanium\" by Dave...\n",
      "Done.\n",
      "Searching for \"Body\" by Russ Millions & Tion Wayne...\n",
      "Done.\n",
      "Searching for \"Lemon Pepper Freestyle\" by Drake...\n",
      "Done.\n",
      "Searching for \"Plugged In Freestyle\" by Pete & Bas...\n",
      "Done.\n",
      "Searching for \"Dior\" by Егор Шип (Egor Ship)...\n",
      "Done.\n",
      "Searching for \"Real\" by Young Stoner Life & Young Thug...\n",
      "Done.\n",
      "Searching for \"Tampa\" by Cico P...\n",
      "Done.\n"
     ]
    }
   ],
   "source": [
    "# TODO: append instead of recreating after each call\n",
    "\n",
    "hits, artists, links, rank, datetimes = parse_page(html)\n",
    "\n",
    "df_hits['Title']=hits\n",
    "df_hits['Artist']=artists\n",
    "df_hits['Rank']=rank\n",
    "df_hits['Date']=datetimes\n",
    "\n",
    "lyrics = get_lyrics(hits,artists)\n",
    "\n",
    "df_hits['Lyrics']=lyrics"
   ]
  },
  {
   "cell_type": "code",
   "execution_count": 5,
   "metadata": {},
   "outputs": [
    {
     "data": {
      "text/plain": [
       "\"[Verse 1]\\nI caught it bad yesterday\\nYou hit me with a call to your place\\nAin't been out\\u2005in\\u2005a while anyway\\nWas\\u2005hopin' I could catch you throwin'\\u2005smiles in my face\\nRomantic talkin'? You don't even have to try\\nYou're cute enough to fuck with me tonight\\nLookin' at the table, all I see is weed and white\\nBaby, you livin' the life, but nigga, you ain't livin' right\\n\\n[Pre-Chorus]\\nCocaine and drinkin' with your friends\\nYou live in the dark, boy, I cannot pretend\\nI'm not fazed, only here to sin\\nIf Eve ain't in your garden, you know that you can\\n\\n[Chorus]\\nCall me when you want, call me when you need\\nCall me in the morning, I'll be on the way\\nCall me when you want, call me when you need\\nCall me out by your name, I'll be on the way like\\n\\n[Post-Chorus]\\nMmm, mmm, mmm\\nMmm, mmm, mmm\\n\\n[Verse 2]\\nAyy, ayy\\nI wanna sell what you're buyin'\\nI wanna feel on your ass in Hawaii\\nI want that jet lag from fuckin' and flyin'\\nShoot a child in your mouth while I'm ridin'\\nOh, oh, oh, why me?\\nA sign of the times every time that I speak\\nA dime and a nine, it was mine every week\\nWhat a time, an incline, God was shinin' on me\\nNow I can't leave\\nAnd now I'm actin' hella elite\\nNever want the niggas that's in my league\\nI wanna fuck the ones I envy, I envy\\n\\n[Pre-Chorus]\\nCocaine and drinkin' with your friends\\nYou live in the dark, boy, I cannot pretend\\nI'm not fazed, only here to sin\\nIf Eve ain't in your garden, you know that you can\\n\\n[Chorus]\\nCall me when you want, call me when you need\\nCall me in the morning, I'll be on the way\\nCall me when you want, call me when you need\\nCall me out by your name, I'll be on the way like\\n\\n[Post-Chorus]\\nOh, call me by your name (Mmm, mmm, mmm)\\nTell me you love me in private\\nCall me by your name (Mmm, mmm, mmm)\\nI do not care if you lyin'\""
      ]
     },
     "execution_count": 5,
     "metadata": {},
     "output_type": "execute_result"
    }
   ],
   "source": [
    "df_hits['Lyrics']=lyrics\n",
    "lyrics[0]\n"
   ]
  },
  {
   "cell_type": "code",
   "execution_count": 32,
   "metadata": {},
   "outputs": [
    {
     "ename": "NameError",
     "evalue": "name 'results_csv' is not defined",
     "output_type": "error",
     "traceback": [
      "\u001b[0;31m---------------------------------------------------------------------------\u001b[0m",
      "\u001b[0;31mNameError\u001b[0m                                 Traceback (most recent call last)",
      "\u001b[0;32m<ipython-input-32-d8f167a8a4b8>\u001b[0m in \u001b[0;36m<module>\u001b[0;34m\u001b[0m\n\u001b[1;32m      1\u001b[0m \u001b[0;32mimport\u001b[0m \u001b[0mdatetime\u001b[0m\u001b[0;34m\u001b[0m\u001b[0;34m\u001b[0m\u001b[0m\n\u001b[1;32m      2\u001b[0m \u001b[0mcurrent_datetime_str\u001b[0m \u001b[0;34m=\u001b[0m \u001b[0mstr\u001b[0m\u001b[0;34m(\u001b[0m\u001b[0mdatetime\u001b[0m\u001b[0;34m.\u001b[0m\u001b[0mdatetime\u001b[0m\u001b[0;34m.\u001b[0m\u001b[0mnow\u001b[0m\u001b[0;34m(\u001b[0m\u001b[0;34m)\u001b[0m\u001b[0;34m)\u001b[0m\u001b[0;34m\u001b[0m\u001b[0;34m\u001b[0m\u001b[0m\n\u001b[0;32m----> 3\u001b[0;31m \u001b[0mresults_csv\u001b[0m\u001b[0;34m(\u001b[0m\u001b[0;34m)\u001b[0m\u001b[0;34m\u001b[0m\u001b[0;34m\u001b[0m\u001b[0m\n\u001b[0m",
      "\u001b[0;31mNameError\u001b[0m: name 'results_csv' is not defined"
     ]
    }
   ],
   "source": [
    "\n",
    "results_csv()"
   ]
  },
  {
   "cell_type": "markdown",
   "metadata": {},
   "source": [
    "# Natual Language Processing"
   ]
  },
  {
   "cell_type": "code",
   "execution_count": null,
   "metadata": {},
   "outputs": [],
   "source": [
    "sid = SentimentIntensityAnalyzer()\n",
    "df['comments_scores'] = df['Comments'].apply(lambda comment: sid.polarity_scores(comment))\n",
    "df['lyrics_scores'] = df['Lyrics'].apply(lambda lyric: sid.polarity_scores(lyric))"
   ]
  },
  {
   "cell_type": "code",
   "execution_count": null,
   "metadata": {},
   "outputs": [],
   "source": [
    "df['comments_compound'] = df['comments_scores'].apply(lambda d:d['compound'])\n",
    "df['lyrics_compound'] = df['lyrics_scores'].apply(lambda d:d['compound'])"
   ]
  },
  {
   "cell_type": "code",
   "execution_count": null,
   "metadata": {},
   "outputs": [],
   "source": [
    "df['lyric_lemmas'] = df['Lyrics'].apply(get_lemmas)"
   ]
  },
  {
   "cell_type": "code",
   "execution_count": 5,
   "metadata": {},
   "outputs": [
    {
     "ename": "ModuleNotFoundError",
     "evalue": "No module named 'nltk'",
     "output_type": "error",
     "traceback": [
      "\u001b[0;31m---------------------------------------------------------------------------\u001b[0m",
      "\u001b[0;31mModuleNotFoundError\u001b[0m                       Traceback (most recent call last)",
      "\u001b[0;32m<ipython-input-5-35bd6bc4cd49>\u001b[0m in \u001b[0;36m<module>\u001b[0;34m\u001b[0m\n\u001b[0;32m----> 1\u001b[0;31m \u001b[0;32mimport\u001b[0m \u001b[0mnltk\u001b[0m\u001b[0;34m\u001b[0m\u001b[0;34m\u001b[0m\u001b[0m\n\u001b[0m\u001b[1;32m      2\u001b[0m \u001b[0mnltk\u001b[0m\u001b[0;34m.\u001b[0m\u001b[0mdownload\u001b[0m\u001b[0;34m(\u001b[0m\u001b[0;34m'vader_lexicon'\u001b[0m\u001b[0;34m)\u001b[0m\u001b[0;34m\u001b[0m\u001b[0;34m\u001b[0m\u001b[0m\n\u001b[1;32m      3\u001b[0m \u001b[0;32mfrom\u001b[0m \u001b[0mnltk\u001b[0m\u001b[0;34m.\u001b[0m\u001b[0msentiment\u001b[0m\u001b[0;34m.\u001b[0m\u001b[0mvader\u001b[0m \u001b[0;32mimport\u001b[0m \u001b[0mSentimentIntensityAnalyzer\u001b[0m\u001b[0;34m\u001b[0m\u001b[0;34m\u001b[0m\u001b[0m\n\u001b[1;32m      4\u001b[0m \u001b[0;32mfrom\u001b[0m \u001b[0mnltk\u001b[0m\u001b[0;34m.\u001b[0m\u001b[0mtokenize\u001b[0m \u001b[0;32mimport\u001b[0m \u001b[0msent_tokenize\u001b[0m\u001b[0;34m\u001b[0m\u001b[0;34m\u001b[0m\u001b[0m\n\u001b[1;32m      5\u001b[0m \u001b[0;32mimport\u001b[0m \u001b[0mspacy\u001b[0m\u001b[0;34m\u001b[0m\u001b[0;34m\u001b[0m\u001b[0m\n",
      "\u001b[0;31mModuleNotFoundError\u001b[0m: No module named 'nltk'"
     ]
    }
   ],
   "source": [
    "import nltk\n",
    "nltk.download('vader_lexicon')\n",
    "from nltk.sentiment.vader import SentimentIntensityAnalyzer\n",
    "from nltk.tokenize import sent_tokenize\n",
    "import spacy"
   ]
  },
  {
   "cell_type": "code",
   "execution_count": 6,
   "metadata": {},
   "outputs": [
    {
     "name": "stdout",
     "output_type": "stream",
     "text": [
      "/Applications/anaconda3/bin/python\n",
      "/usr/bin/python2\n",
      "/Applications/anaconda3/bin/python3\n"
     ]
    }
   ],
   "source": [
    "! which python python2 python3"
   ]
  },
  {
   "cell_type": "code",
   "execution_count": 9,
   "metadata": {},
   "outputs": [
    {
     "ename": "IndentationError",
     "evalue": "expected an indented block (<ipython-input-9-8b254997b647>, line 6)",
     "output_type": "error",
     "traceback": [
      "\u001b[0;36m  File \u001b[0;32m\"<ipython-input-9-8b254997b647>\"\u001b[0;36m, line \u001b[0;32m6\u001b[0m\n\u001b[0;31m    \"\"\"\u001b[0m\n\u001b[0m    ^\u001b[0m\n\u001b[0;31mIndentationError\u001b[0m\u001b[0;31m:\u001b[0m expected an indented block\n"
     ]
    }
   ],
   "source": [
    "def get_song_info(hits): \n",
    "\n",
    "\"\"\"\n",
    "# TODO: add better documentation\n",
    "\n",
    "\"\"\"\n",
    "\n",
    "#TODO: make this more robust so that it gets the right song even when there \n",
    "# are multiple songs with the same name\n",
    "\n",
    "    import requests\n",
    "    import json\n",
    "\n",
    "    base_url = 'https://api.genius.com/search'\n",
    "\n",
    "    TOKEN = 'F4xSKCMmA7mpolFgbIrdAPPBw67u6ae_p19dSs0rqDcZNrhBSzVt9hMn5Xan0_aq'\n",
    "    headers = {'Authorization': 'Bearer ' + TOKEN}\n",
    "\n",
    "    hits_info = []\n",
    "    for hit in hits: \n",
    "        params = {'q': str(hit)}\n",
    "        r = requests.get(base_url, params=params, headers=headers)\n",
    "        r = json.loads(r.text)\n",
    "        \n",
    "        hits_info.append(r['response'])\n",
    "\n",
    "return hits_info"
   ]
  },
  {
   "cell_type": "code",
   "execution_count": 4,
   "metadata": {},
   "outputs": [
    {
     "ename": "NameError",
     "evalue": "name 'spacy' is not defined",
     "output_type": "error",
     "traceback": [
      "\u001b[0;31m---------------------------------------------------------------------------\u001b[0m",
      "\u001b[0;31mNameError\u001b[0m                                 Traceback (most recent call last)",
      "\u001b[0;32m<ipython-input-4-5741c9fe1ffd>\u001b[0m in \u001b[0;36m<module>\u001b[0;34m\u001b[0m\n\u001b[1;32m      1\u001b[0m \u001b[0;31m# Load the language library\u001b[0m\u001b[0;34m\u001b[0m\u001b[0;34m\u001b[0m\u001b[0;34m\u001b[0m\u001b[0m\n\u001b[0;32m----> 2\u001b[0;31m \u001b[0mnlp\u001b[0m \u001b[0;34m=\u001b[0m \u001b[0mspacy\u001b[0m\u001b[0;34m.\u001b[0m\u001b[0mload\u001b[0m\u001b[0;34m(\u001b[0m\u001b[0;34m'en'\u001b[0m\u001b[0;34m)\u001b[0m\u001b[0;34m\u001b[0m\u001b[0;34m\u001b[0m\u001b[0m\n\u001b[0m\u001b[1;32m      3\u001b[0m \u001b[0;34m\u001b[0m\u001b[0m\n\u001b[1;32m      4\u001b[0m \u001b[0;32mdef\u001b[0m \u001b[0mget_lemmas\u001b[0m\u001b[0;34m(\u001b[0m\u001b[0mstring\u001b[0m\u001b[0;34m)\u001b[0m\u001b[0;34m:\u001b[0m\u001b[0;34m\u001b[0m\u001b[0;34m\u001b[0m\u001b[0m\n\u001b[1;32m      5\u001b[0m \u001b[0;34m\u001b[0m\u001b[0m\n",
      "\u001b[0;31mNameError\u001b[0m: name 'spacy' is not defined"
     ]
    }
   ],
   "source": [
    "\n",
    "# Load the language library\n",
    "nlp = spacy.load('en')\n",
    "\n",
    "def get_lemmas(string):\n",
    "\n",
    "    # Create a document object\n",
    "    doc = nlp(string)\n",
    "\n",
    "    lemmas = []\n",
    "\n",
    "    for token in doc: \n",
    "        if token.pos == 103: # takes care of spaces\n",
    "            continue\n",
    "        elif token.lemma_ == '-PRON-':\n",
    "            lemmas.append(token)\n",
    "        else: \n",
    "            lemmas.append(token.lemma_)\n",
    "            \n",
    "    return lemmas"
   ]
  },
  {
   "cell_type": "code",
   "execution_count": null,
   "metadata": {},
   "outputs": [],
   "source": []
  }
 ],
 "metadata": {
  "kernelspec": {
   "display_name": "Python 3",
   "language": "python",
   "name": "python3"
  },
  "language_info": {
   "codemirror_mode": {
    "name": "ipython",
    "version": 3
   },
   "file_extension": ".py",
   "mimetype": "text/x-python",
   "name": "python",
   "nbconvert_exporter": "python",
   "pygments_lexer": "ipython3",
   "version": "3.7.1"
  },
  "toc": {
   "base_numbering": 1,
   "nav_menu": {},
   "number_sections": true,
   "sideBar": true,
   "skip_h1_title": false,
   "title_cell": "Table of Contents",
   "title_sidebar": "Contents",
   "toc_cell": false,
   "toc_position": {},
   "toc_section_display": true,
   "toc_window_display": false
  },
  "varInspector": {
   "cols": {
    "lenName": 16,
    "lenType": 16,
    "lenVar": 40
   },
   "kernels_config": {
    "python": {
     "delete_cmd_postfix": "",
     "delete_cmd_prefix": "del ",
     "library": "var_list.py",
     "varRefreshCmd": "print(var_dic_list())"
    },
    "r": {
     "delete_cmd_postfix": ") ",
     "delete_cmd_prefix": "rm(",
     "library": "var_list.r",
     "varRefreshCmd": "cat(var_dic_list()) "
    }
   },
   "types_to_exclude": [
    "module",
    "function",
    "builtin_function_or_method",
    "instance",
    "_Feature"
   ],
   "window_display": false
  }
 },
 "nbformat": 4,
 "nbformat_minor": 2
}
