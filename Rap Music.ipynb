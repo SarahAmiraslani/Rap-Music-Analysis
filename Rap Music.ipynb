{
 "cells": [
  {
   "cell_type": "markdown",
   "metadata": {},
   "source": [
    "# Rap Music Analysis"
   ]
  },
  {
   "cell_type": "markdown",
   "metadata": {},
   "source": [
    "Our current Genius token: \n",
    "```python\n",
    "token = F4xSKCMmA7mpolFgbIrdAPPBw67u6ae_p19dSs0rqDcZNrhBSzVt9hMn5Xan0_aq\n",
    "```"
   ]
  },
  {
   "cell_type": "markdown",
   "metadata": {},
   "source": [
    "# Imports"
   ]
  },
  {
   "cell_type": "code",
   "execution_count": 8,
   "metadata": {},
   "outputs": [],
   "source": [
    "import numpy as np\n",
    "import pandas as pd\n",
    "\n",
    "# User defined functions\n",
    "from functions import *"
   ]
  },
  {
   "cell_type": "markdown",
   "metadata": {},
   "source": [
    "# Data Collection"
   ]
  },
  {
   "cell_type": "code",
   "execution_count": 9,
   "metadata": {},
   "outputs": [
    {
     "name": "stderr",
     "output_type": "stream",
     "text": [
      "[WDM] - ====== WebDriver manager ======\n",
      "[WDM] - Current google-chrome version is 89.0.4389\n",
      "[WDM] - Get LATEST driver version for 89.0.4389\n"
     ]
    },
    {
     "name": "stdout",
     "output_type": "stream",
     "text": [
      "\n",
      "\n"
     ]
    },
    {
     "name": "stderr",
     "output_type": "stream",
     "text": [
      "[WDM] - Driver [/Users/MichaelsiMac/.wdm/drivers/chromedriver/mac64/89.0.4389.23/chromedriver] found in cache\n"
     ]
    }
   ],
   "source": [
    "html = get_page_source()"
   ]
  },
  {
   "cell_type": "code",
   "execution_count": 11,
   "metadata": {},
   "outputs": [],
   "source": [
    "# Create empty DataFrames\n",
    "df_hits = pd.DataFrame(columns = ['Title','Artist','Lyrics','Comments','Rank','Date','Page Views'])\n",
    "\n",
    "df_artists = pd.DataFrame(columns = ['Artist'])"
   ]
  },
  {
   "cell_type": "code",
   "execution_count": 17,
   "metadata": {},
   "outputs": [
    {
     "name": "stdout",
     "output_type": "stream",
     "text": [
      "Searching for \"MONTERO (Call Me By Your Name)\" by Lil Nas X...\n",
      "Done.\n",
      "Searching for \"Патрон (Patron)\" by MiyaGi & Эндшпиль...\n",
      "Done.\n",
      "Searching for \"Patoreakcja\" by Mata...\n",
      "Done.\n",
      "Searching for \"Up\" by Cardi B...\n",
      "Done.\n",
      "Searching for \"​polka 2 :-/\" by Rosa Chemical...\n",
      "Done.\n",
      "Searching for \"Who I Smoke\" by Spinabenz...\n",
      "Done.\n",
      "Searching for \"Голодный пёс (Hungry dog)\" by SEEMEE...\n",
      "Done.\n",
      "Searching for \"Sakatat\" by Ezhel...\n",
      "Done.\n",
      "Searching for \"Бигасс (Bigass)\" by SODA LUV & WHY, BERRY...\n",
      "Done.\n",
      "Searching for \"WACHA\" by KHEA & Duki...\n",
      "Done.\n",
      "Searching for \"Body\" by Russ Millions & Tion Wayne...\n",
      "Done.\n",
      "Searching for \"Run It Up\" by Lil Tjay...\n",
      "Done.\n",
      "Searching for \"Headshot\" by Lil Tjay, Polo G & Fivio Foreign...\n",
      "Done.\n",
      "Searching for \"Gluh i Nijem\" by Buba Corelli...\n",
      "Done.\n",
      "Searching for \"COUNT ON ME\" by BROCKHAMPTON...\n",
      "Done.\n",
      "Searching for \"Richer\" by Rod Wave...\n",
      "Done.\n",
      "Searching for \"Tombstone\" by Rod Wave...\n",
      "Done.\n",
      "Searching for \"[TPL (OTP)] Plugged In Freestyle\" by TPL (OTP)...\n",
      "Done.\n",
      "Searching for \"Pleši\" by Voyage...\n",
      "Done.\n",
      "Searching for \"All She Wrote\" by Justin Bieber...\n",
      "Done.\n",
      "Searching for \"Zuccenberg\" by Tommy Cash...\n",
      "Done.\n",
      "Searching for \"We’re In This Together\" by Justin Bieber...\n",
      "Done.\n",
      "Searching for \"Perros Blancos Freestyle\" by Cakal & Reckol...\n",
      "Done.\n",
      "Searching for \"Skamming shit\" by ​uglystephan...\n",
      "Done.\n",
      "Searching for \"Франция (France)\" by Jamik & PUSSYKILLER...\n",
      "Done.\n",
      "Searching for \"Easter in Miami\" by Kodak Black...\n",
      "Done.\n",
      "Searching for \"JUST LIKE YOU\" by NF...\n",
      "Done.\n",
      "Searching for \"TRUST\" by NF...\n",
      "Done.\n",
      "Searching for \"Wants and Needs\" by Drake...\n",
      "Done.\n",
      "Searching for \"My Girlfriends Are My Boyfriend\" by Demi Lovato...\n",
      "Done.\n",
      "Searching for \"Dick\" by StarBoi3...\n",
      "Done.\n",
      "Searching for \"G-SHOKK\" by SODA LUV...\n",
      "Done.\n",
      "Searching for \"SugarCrash!\" by ElyOtto...\n",
      "Done.\n",
      "Searching for \"Twerkulator\" by City Girls...\n",
      "Done.\n",
      "Searching for \"FFM Freestyle: SODA LUV\" by Fast Food Music...\n",
      "Done.\n",
      "Searching for \"On Me\" by Lil Baby...\n",
      "Done.\n",
      "Searching for \"Lemon Pepper Freestyle\" by Drake...\n",
      "Done.\n",
      "Searching for \"Mannschaft\" by SCH...\n",
      "Done.\n",
      "Searching for \"Baby\" by Justin Bieber...\n",
      "Done.\n",
      "Searching for \"Lucid Dreams\" by Juice WRLD...\n",
      "Done.\n",
      "Searching for \"Irregular Love\" by Lil Tjay...\n",
      "Done.\n",
      "Searching for \"Born 2 Be Great\" by Lil Tjay...\n",
      "Done.\n",
      "Searching for \"WAP\" by Cardi B...\n",
      "Done.\n",
      "Searching for \"First Day Out (Beat Box)\" by NLE Choppa...\n",
      "Done.\n",
      "Searching for \"Ritz\" by Lucii (Block 6)...\n",
      "Done.\n",
      "Searching for \"DRIFTING\" by NF...\n",
      "Done.\n",
      "Searching for \"Dior\" by Pop Smoke...\n",
      "Done.\n",
      "Searching for \"4 Da Gang\" by 42 Dugg & Roddy Ricch...\n",
      "Done.\n",
      "Searching for \"What You Wanna Do\" by Lil Tjay...\n",
      "Done.\n",
      "Searching for \"ГЕРМАФРОДИТ (HERMAPHRODITE)\" by SODA LUV...\n",
      "Done.\n"
     ]
    }
   ],
   "source": [
    "# TODO: append instead of recreating after each call\n",
    "\n",
    "hits, artists, links, rank, datetimes = parse_page(html)\n",
    "\n",
    "df_hits['Title']=hits\n",
    "df_hits['Artist']=artists\n",
    "df_hits['Rank']=rank\n",
    "df_hits['Date']=datetimes\n",
    "\n",
    "lyrics = get_lyrics(hits,artists)\n",
    "\n",
    "df_hits['Lyrics']=lyrics"
   ]
  },
  {
   "cell_type": "code",
   "execution_count": 20,
   "metadata": {},
   "outputs": [
    {
     "data": {
      "text/plain": [
       "\"[Verse 1]\\nI caught it bad yesterday\\nYou hit me with a call to your place\\nAin't been out\\u2005in\\u2005a while anyway\\nWas\\u2005hopin' I could catch you throwin'\\u2005smiles in my face\\nRomantic talkin'? You don't even have to try\\nYou're cute enough to fuck with me tonight\\nLookin' at the table, all I see is weed and white\\nBaby, you livin' the life, but nigga, you ain't livin' right\\n\\n[Pre-Chorus]\\nCocaine and drinkin' with your friends\\nYou live in the dark, boy, I cannot pretend\\nI'm not fazed, only here to sin\\nIf Eve ain't in your garden, you know that you can\\n\\n[Chorus]\\nCall me when you want, call me when you need\\nCall me in the morning, I'll be on the way\\nCall me when you want, call me when you need\\nCall me out by your name, I'll be on the way like\\n\\n[Post-Chorus]\\nMmm, mmm, mmm\\nMmm, mmm, mmm\\n\\n[Verse 2]\\nAyy, ayy\\nI wanna sell what you're buyin'\\nI wanna feel on your ass in Hawaii\\nI want that jet lag from fuckin' and flyin'\\nShoot a child in your mouth while I'm ridin'\\nOh, oh, oh, why me?\\nA sign of the times every time that I speak\\nA dime and a nine, it was mine every week\\nWhat a time, an incline, God was shinin' on me\\nNow I can't leave\\nAnd now I'm actin' hella elite\\nNever want the niggas that's in my league\\nI wanna fuck the ones I envy, I envy\\n\\n[Pre-Chorus]\\nCocaine and drinkin' with your friends\\nYou live in the dark, boy, I cannot pretend\\nI'm not fazed, only here to sin\\nIf Eve ain't in your garden, you know that you can\\n\\n[Chorus]\\nCall me when you want, call me when you need\\nCall me in the morning, I'll be on the way\\nCall me when you want, call me when you need\\nCall me out by your name, I'll be on the way like\\n\\n[Post-Chorus]\\nOh, call me by your name (Mmm, mmm, mmm)\\nTell me you love me in private\\nCall me by your name (Mmm, mmm, mmm)\\nI do not care if you lyin'\""
      ]
     },
     "execution_count": 20,
     "metadata": {},
     "output_type": "execute_result"
    }
   ],
   "source": [
    "df_hits['Lyrics']=lyrics\n",
    "lyrics[0]\n"
   ]
  },
  {
   "cell_type": "code",
   "execution_count": 33,
   "metadata": {},
   "outputs": [
    {
     "name": "stdout",
     "output_type": "stream",
     "text": [
      "[0, 1, 2, 3, 4, 5, 6, 7, 8, 9, 10, 11, 12, 13, 14, 15, 16, 17, 18, 19, 20, 21, 22, 23, 24, 25, 26, 27, 28, 29, 30, 31, 32, 33, 34, 35, 36, 37, 38, 39, 40, 41, 42, 43, 44, 45, 46, 47, 48, 49]\n"
     ]
    }
   ],
   "source": [
    "print(rank)"
   ]
  },
  {
   "cell_type": "markdown",
   "metadata": {},
   "source": [
    "# Natual Language Processing"
   ]
  },
  {
   "cell_type": "code",
   "execution_count": null,
   "metadata": {},
   "outputs": [],
   "source": [
    "sid = SentimentIntensityAnalyzer()\n",
    "df['comments_scores'] = df['Comments'].apply(lambda comment: sid.polarity_scores(comment))\n",
    "df['lyrics_scores'] = df['Lyrics'].apply(lambda lyric: sid.polarity_scores(lyric))"
   ]
  },
  {
   "cell_type": "code",
   "execution_count": null,
   "metadata": {},
   "outputs": [],
   "source": [
    "df['comments_compound'] = df['comments_scores'].apply(lambda d:d['compound'])\n",
    "df['lyrics_compound'] = df['lyrics_scores'].apply(lambda d:d['compound'])"
   ]
  },
  {
   "cell_type": "code",
   "execution_count": null,
   "metadata": {},
   "outputs": [],
   "source": [
    "df['lyric_lemmas'] = df['Lyrics'].apply(get_lemmas)"
   ]
  },
  {
   "cell_type": "code",
   "execution_count": null,
   "metadata": {},
   "outputs": [],
   "source": [
    "import nltk\n",
    "nltk.download('vader_lexicon')\n",
    "from nltk.sentiment.vader import SentimentIntensityAnalyzer\n",
    "from nltk.tokenize import sent_tokenize\n",
    "import spacy"
   ]
  },
  {
   "cell_type": "code",
   "execution_count": null,
   "metadata": {},
   "outputs": [],
   "source": [
    "\n",
    "# Load the language library\n",
    "nlp = spacy.load('en')\n",
    "\n",
    "def get_lemmas(string):\n",
    "\n",
    "    # Create a document object\n",
    "    doc = nlp(string)\n",
    "\n",
    "    lemmas = []\n",
    "\n",
    "    for token in doc: \n",
    "        if token.pos == 103: # takes care of spaces\n",
    "            continue\n",
    "        elif token.lemma_ == '-PRON-':\n",
    "            lemmas.append(token)\n",
    "        else: \n",
    "            lemmas.append(token.lemma_)\n",
    "            \n",
    "    return lemmas"
   ]
  },
  {
   "cell_type": "code",
   "execution_count": null,
   "metadata": {},
   "outputs": [],
   "source": []
  }
 ],
 "metadata": {
  "kernelspec": {
   "display_name": "Python 3",
   "language": "python",
   "name": "python3"
  },
  "language_info": {
   "codemirror_mode": {
    "name": "ipython",
    "version": 3
   },
   "file_extension": ".py",
   "mimetype": "text/x-python",
   "name": "python",
   "nbconvert_exporter": "python",
   "pygments_lexer": "ipython3",
   "version": "3.8.5"
  }
 },
 "nbformat": 4,
 "nbformat_minor": 2
}
