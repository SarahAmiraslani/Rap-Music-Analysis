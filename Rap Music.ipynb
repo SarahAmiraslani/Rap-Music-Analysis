{
 "cells": [
  {
   "cell_type": "markdown",
   "metadata": {},
   "source": [
    "# Rap Music Analysis"
   ]
  },
  {
   "cell_type": "markdown",
   "metadata": {},
   "source": [
    "Our current Genius token: \n",
    "```python\n",
    "token = F4xSKCMmA7mpolFgbIrdAPPBw67u6ae_p19dSs0rqDcZNrhBSzVt9hMn5Xan0_aq\n",
    "```"
   ]
  },
  {
   "cell_type": "markdown",
   "metadata": {},
   "source": [
    "# Imports"
   ]
  },
  {
   "cell_type": "code",
   "execution_count": 46,
   "metadata": {},
   "outputs": [],
   "source": [
    "import numpy as np\n",
    "import pandas as pd\n",
    "\n",
    "# User defined functions\n",
    "from functions import *"
   ]
  },
  {
   "cell_type": "markdown",
   "metadata": {},
   "source": [
    "# Data Collection"
   ]
  },
  {
   "cell_type": "code",
   "execution_count": 12,
   "metadata": {},
   "outputs": [
    {
     "name": "stderr",
     "output_type": "stream",
     "text": [
      "[WDM] - Current google-chrome version is 90.0.4430\n",
      "[WDM] - Get LATEST driver version for 90.0.4430\n",
      "[WDM] - Driver [/Users/sarahamiraslani/.wdm/drivers/chromedriver/mac64/90.0.4430.24/chromedriver] found in cache\n"
     ]
    },
    {
     "name": "stdout",
     "output_type": "stream",
     "text": [
      "\n",
      "\n",
      "====== WebDriver manager ======\n",
      "Current google-chrome version is 90.0.4430\n",
      "Get LATEST driver version for 90.0.4430\n",
      "Driver [/Users/macarthur/.wdm/drivers/chromedriver/mac64/90.0.4430.24/chromedriver] found in cache\n"
     ]
    }
   ],
   "source": [
    "html = get_page_source()"
   ]
  },
  {
   "cell_type": "code",
   "execution_count": 14,
   "metadata": {},
   "outputs": [],
   "source": [
    "# Create empty DataFrames\n",
    "df_hits = pd.DataFrame(columns = ['Title','Artist','Lyrics','Comments','Rank','Date','Page Views'])\n",
    "\n",
    "df_artists = pd.DataFrame(columns = ['Artist'])"
   ]
  },
  {
   "cell_type": "code",
   "execution_count": 30,
   "metadata": {},
   "outputs": [
    {
     "output_type": "stream",
     "name": "stdout",
     "text": [
      "Searching for \"Dick\" by StarBoi3...\n",
      "Done.\n",
      "Searching for \"MONTERO (Call Me By Your Name)\" by Lil Nas X...\n",
      "Done.\n",
      "Searching for \"Solid\" by Young Stoner Life, Young Thug & Gunna...\n",
      "Done.\n",
      "Searching for \"RAPSTAR\" by Polo G...\n",
      "Done.\n",
      "Searching for \"Ski\" by Young Stoner Life, Young Thug & Gunna...\n",
      "Done.\n",
      "Searching for \"Krvn\" by UZI...\n",
      "Done.\n",
      "Searching for \"Up\" by Cardi B...\n",
      "Done.\n",
      "Searching for \"Голодный пёс (Hungry dog)\" by SEEMEE...\n",
      "Done.\n",
      "Searching for \"Proud of You\" by Young Thug & Young Stoner Life...\n",
      "Done.\n",
      "Searching for \"Diamonds Dancing\" by Young Stoner Life, Young Thug & Gunna...\n",
      "Done.\n",
      "Searching for \"Бигасс (Bigass)\" by SODA LUV & WHY, BERRY...\n",
      "Done.\n",
      "Searching for \"Levitating\" by Dua Lipa...\n",
      "Done.\n",
      "Searching for \"Who I Smoke\" by Spinabenz, Yungeen Ace & FastMoney Goon...\n",
      "Done.\n",
      "Searching for \"Perros Blancos Freestyle\" by Cakal & Reckol...\n",
      "Done.\n",
      "Searching for \"Wit My Hoe!\" by Katozai...\n",
      "Done.\n",
      "Searching for \"Baby\" by Justin Bieber...\n",
      "Done.\n",
      "Searching for \"Wants and Needs\" by Drake...\n",
      "Done.\n",
      "Searching for \"G-SHOKK\" by SODA LUV...\n",
      "Done.\n",
      "Searching for \"Неправильно (Wrong)\" by LOVV66...\n",
      "Done.\n",
      "Searching for \"Umrumda Değil\" by UZI...\n",
      "Done.\n",
      "Searching for \"Dua\" by Güneş...\n",
      "Done.\n",
      "Searching for \"Beautiful Mistakes\" by Maroon 5 & Megan Thee Stallion...\n",
      "Done.\n",
      "Searching for \"DRILL\" by Джарахов (Dzharahov)...\n",
      "Done.\n",
      "Searching for \"SUPERWOMAN\" by Cro...\n",
      "Done.\n",
      "Searching for \"Twerkulator\" by City Girls...\n",
      "Done.\n",
      "Searching for \"Levitating (Remix)\" by Dua Lipa...\n",
      "Done.\n",
      "Searching for \"Коми (Komi)\" by SODA LUV & BUSHIDO ZHO...\n",
      "Done.\n",
      "Searching for \"[TPL (OTP)] Plugged In Freestyle\" by TPL (OTP)...\n",
      "Done.\n",
      "Searching for \"Патрон (Patron)\" by MiyaGi & Эндшпиль...\n",
      "Done.\n",
      "Searching for \"Миллионы (Millions)\" by THRILL PILL...\n",
      "Done.\n",
      "Searching for \"Tampa\" by Cico P...\n",
      "Done.\n",
      "Searching for \"Skamming shit\" by ​uglystephan...\n",
      "Done.\n",
      "Searching for \"Ritz\" by Lucii (No Remorse)...\n",
      "Done.\n",
      "Searching for \"WAP\" by Cardi B...\n",
      "Done.\n",
      "Searching for \"ХОТБОКС (HOTBOX)\" by SODA LUV...\n",
      "Done.\n",
      "Searching for \"FFM Freestyle: SODA LUV\" by Fast Food Music...\n",
      "Done.\n",
      "Searching for \"Body\" by Russ Millions & Tion Wayne...\n",
      "Done.\n",
      "Searching for \"SugarCrash!\" by ElyOtto...\n",
      "Done.\n",
      "Searching for \"Nube\" by Chucky73...\n",
      "Done.\n",
      "Searching for \"Plugged In Freestyle\" by Pete & Bas...\n",
      "Done.\n",
      "Searching for \"Rap God\" by Eminem...\n",
      "Done.\n",
      "Searching for \"Франция (France)\" by Jamik & PUSSYKILLER...\n",
      "Done.\n",
      "Searching for \"Godzilla\" by Eminem...\n",
      "Done.\n",
      "Searching for \"’Till I Collapse\" by Eminem...\n",
      "Done.\n",
      "Searching for \"Real\" by Young Thug & Young Stoner Life...\n",
      "Done.\n",
      "Searching for \"Paid the Fine\" by Young Stoner Life, Young Thug & Gunna...\n",
      "Done.\n",
      "Searching for \"Back in Blood\" by Pooh Shiesty...\n",
      "Done.\n",
      "Searching for \"$andman\" by A$AP Rocky...\n",
      "Done.\n",
      "Searching for \"With My Hoe!\" by C2D...\n",
      "Done.\n",
      "Searching for \"Astronaut in the Ocean\" by Masked Wolf...\n",
      "Done.\n"
     ]
    }
   ],
   "source": [
    "# TODO: append instead of recreating after each call\n",
    "\n",
    "hits, artists, links, rank, datetimes = parse_page(html)\n",
    "\n",
    "df_hits['Title']=hits\n",
    "df_hits['Artist']=artists\n",
    "df_hits['Rank']=rank\n",
    "df_hits['Date']=datetimes\n",
    "\n",
    "lyrics = get_lyrics(hits,artists)\n",
    "\n",
    "df_hits['Lyrics']=lyrics"
   ]
  },
  {
   "source": [
    "print(rank)"
   ],
   "cell_type": "code",
   "metadata": {},
   "execution_count": 33,
   "outputs": [
    {
     "output_type": "stream",
     "name": "stdout",
     "text": [
      "[0, 1, 2, 3, 4, 5, 6, 7, 8, 9, 10, 11, 12, 13, 14, 15, 16, 17, 18, 19, 20, 21, 22, 23, 24, 25, 26, 27, 28, 29, 30, 31, 32, 33, 34, 35, 36, 37, 38, 39, 40, 41, 42, 43, 44, 45, 46, 47, 48, 49]\n"
     ]
    }
   ]
  },
  {
   "cell_type": "code",
   "execution_count": 54,
   "metadata": {},
   "outputs": [],
   "source": [
    "!mkdir results_csv\n"
   ]
  },
  {
   "cell_type": "code",
   "execution_count": 57,
   "metadata": {},
   "outputs": [],
   "source": [
    "def results_csv(df_hits):\n",
    "    # file naming/ path convention:\n",
    "    import datetime\n",
    "    current_datetime_str = str(datetime.datetime.now())\n",
    "    csv_path = 'results_csv/'\n",
    "    df_hits_time = str(df_hits['Date'][0])\n",
    "    csv_name = df_hits_time + current_datetime_str + '.csv' \n",
    "    \n",
    "    # export dataframe:\n",
    "    df_hits.to_csv(csv_path+csv_name, encoding='utf-8')"
   ]
  },
  {
   "cell_type": "code",
   "execution_count": 58,
   "metadata": {},
   "outputs": [],
   "source": [
    "results_csv(df_hits)"
   ]
  },
  {
   "cell_type": "markdown",
   "metadata": {},
   "source": [
    "# Natual Language Processing"
   ]
  },
  {
   "cell_type": "code",
   "execution_count": null,
   "metadata": {},
   "outputs": [],
   "source": [
    "sid = SentimentIntensityAnalyzer()\n",
    "df['comments_scores'] = df['Comments'].apply(lambda comment: sid.polarity_scores(comment))\n",
    "df['lyrics_scores'] = df['Lyrics'].apply(lambda lyric: sid.polarity_scores(lyric))"
   ]
  },
  {
   "cell_type": "code",
   "execution_count": null,
   "metadata": {},
   "outputs": [],
   "source": [
    "df['comments_compound'] = df['comments_scores'].apply(lambda d:d['compound'])\n",
    "df['lyrics_compound'] = df['lyrics_scores'].apply(lambda d:d['compound'])"
   ]
  },
  {
   "cell_type": "code",
   "execution_count": null,
   "metadata": {},
   "outputs": [],
   "source": [
    "df['lyric_lemmas'] = df['Lyrics'].apply(get_lemmas)"
   ]
  },
  {
   "cell_type": "code",
   "execution_count": null,
   "metadata": {},
   "outputs": [],
   "source": [
    "import nltk\n",
    "nltk.download('vader_lexicon')\n",
    "from nltk.sentiment.vader import SentimentIntensityAnalyzer\n",
    "from nltk.tokenize import sent_tokenize\n",
    "import spacy"
   ]
  },
  {
   "cell_type": "code",
   "execution_count": null,
   "metadata": {},
   "outputs": [],
   "source": [
    "! which python python2 python3"
   ]
  },
  {
   "cell_type": "code",
   "execution_count": null,
   "metadata": {},
   "outputs": [],
   "source": [
    "def get_song_info(hits): \n",
    "\n",
    "\"\"\"\n",
    "# TODO: add better documentation\n",
    "\n",
    "\"\"\"\n",
    "\n",
    "#TODO: make this more robust so that it gets the right song even when there \n",
    "# are multiple songs with the same name\n",
    "\n",
    "    import requests\n",
    "    import json\n",
    "\n",
    "    base_url = 'https://api.genius.com/search'\n",
    "\n",
    "    TOKEN = 'F4xSKCMmA7mpolFgbIrdAPPBw67u6ae_p19dSs0rqDcZNrhBSzVt9hMn5Xan0_aq'\n",
    "    headers = {'Authorization': 'Bearer ' + TOKEN}\n",
    "\n",
    "    hits_info = []\n",
    "    for hit in hits: \n",
    "        params = {'q': str(hit)}\n",
    "        r = requests.get(base_url, params=params, headers=headers)\n",
    "        r = json.loads(r.text)\n",
    "        \n",
    "        hits_info.append(r['response'])\n",
    "\n",
    "return hits_info"
   ]
  },
  {
   "cell_type": "code",
   "execution_count": null,
   "metadata": {},
   "outputs": [],
   "source": [
    "\n",
    "# Load the language library\n",
    "nlp = spacy.load('en')\n",
    "\n",
    "def get_lemmas(string):\n",
    "\n",
    "    # Create a document object\n",
    "    doc = nlp(string)\n",
    "\n",
    "    lemmas = []\n",
    "\n",
    "    for token in doc: \n",
    "        if token.pos == 103: # takes care of spaces\n",
    "            continue\n",
    "        elif token.lemma_ == '-PRON-':\n",
    "            lemmas.append(token)\n",
    "        else: \n",
    "            lemmas.append(token.lemma_)\n",
    "            \n",
    "    return lemmas"
   ]
  },
  {
   "cell_type": "code",
   "execution_count": null,
   "metadata": {},
   "outputs": [],
   "source": []
  }
 ],
 "metadata": {
  "kernelspec": {
   "name": "python385jvsc74a57bd0efc8bafc4d758f486988f8d2efdda8600090a7a8cf09b7978310c03f7f9bdeb6",
   "display_name": "Python 3.8.5 64-bit ('base': conda)"
  },
  "language_info": {
   "codemirror_mode": {
    "name": "ipython",
    "version": 3
   },
   "file_extension": ".py",
   "mimetype": "text/x-python",
   "name": "python",
   "nbconvert_exporter": "python",
   "pygments_lexer": "ipython3",
   "version": "3.8.5"
  }
 },
 "nbformat": 4,
 "nbformat_minor": 2
}
